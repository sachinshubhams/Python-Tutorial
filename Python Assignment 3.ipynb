{
 "cells": [
  {
   "cell_type": "code",
   "execution_count": null,
   "metadata": {},
   "outputs": [],
   "source": [
    "\"\"\" Sachin Shubham Spring 2021.pdf, Peoplesoft ID: 1524147\n",
    "\n",
    " Program #1: Sharing the bill\n",
    "\n",
    " This program computes individual shares of a restaurant bill. \"\"\""
   ]
  },
  {
   "cell_type": "code",
   "execution_count": null,
   "metadata": {},
   "outputs": [
    {
     "name": "stdout",
     "output_type": "stream",
     "text": [
      "Enter name of friend:\n"
     ]
    }
   ],
   "source": [
    "#Replace pass with body of statement to complete the homework\n",
    "def split_the_check(number_of_friends=5):\n",
    "    names=[]\n",
    "    bills=[]\n",
    "    for name in range(number_of_friends):\n",
    "        print('Enter name of friend:')\n",
    "        nameofFrnd='name'+str(name)\n",
    "        nameofFrnd = input()\n",
    "        names.append(nameofFrnd)\n",
    "        print(f'Enter bill for {nameofFrnd} : ')\n",
    "        bill='bill'+str(name)\n",
    "        bill = float(input())\n",
    "        bills.append(bill)\n",
    "        \n",
    "    print('Names of Friends: ', names)\n",
    "    print(f'Individual bills: {bills}')\n",
    "    totalbill=0\n",
    "    for i in range(0,len(bills)):\n",
    "        totalbill=totalbill+bills[i]\n",
    "    print('Enter tip percentage: ')\n",
    "    tipPercent = float(input())\n",
    "    tipAmount=(tipPercent*totalbill)/100\n",
    "    totalBill=totalbill+tipAmount\n",
    "    print(f'Total bill plus tip: $ {round(totalBill,2)}')\n",
    "    avgTotal=(totalBill)/5\n",
    "    print(f'Each of us must pay $ {round(avgTotal,2)}')\n",
    "    return avgTotal\n",
    "\n",
    "        \n",
    "\n",
    "\n",
    "split_the_check(5)"
   ]
  },
  {
   "cell_type": "code",
   "execution_count": null,
   "metadata": {},
   "outputs": [],
   "source": []
  },
  {
   "cell_type": "code",
   "execution_count": null,
   "metadata": {},
   "outputs": [],
   "source": [
    "\n",
    "    "
   ]
  },
  {
   "cell_type": "code",
   "execution_count": null,
   "metadata": {},
   "outputs": [],
   "source": [
    "    "
   ]
  },
  {
   "cell_type": "markdown",
   "metadata": {},
   "source": [
    "# "
   ]
  }
 ],
 "metadata": {
  "kernelspec": {
   "display_name": "Python 3",
   "language": "python",
   "name": "python3"
  },
  "language_info": {
   "codemirror_mode": {
    "name": "ipython",
    "version": 3
   },
   "file_extension": ".py",
   "mimetype": "text/x-python",
   "name": "python",
   "nbconvert_exporter": "python",
   "pygments_lexer": "ipython3",
   "version": "3.8.5"
  }
 },
 "nbformat": 4,
 "nbformat_minor": 2
}
