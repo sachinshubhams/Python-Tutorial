{
 "cells": [
  {
   "cell_type": "code",
   "execution_count": null,
   "metadata": {},
   "outputs": [],
   "source": [
    "#formating a string"
   ]
  },
  {
   "cell_type": "code",
   "execution_count": 5,
   "metadata": {},
   "outputs": [
    {
     "name": "stdout",
     "output_type": "stream",
     "text": [
      "What's the quantity?\n",
      "12\n",
      "What's the item number?\n",
      "23\n",
      "What is the price?\n",
      "12\n",
      "I want 12 pieces of item 23 for 12 dollars.\n"
     ]
    }
   ],
   "source": [
    "print(\"What's the quantity?\")\n",
    "quantity = input()\n",
    "print(\"What's the item number?\")\n",
    "itemno = input()\n",
    "print(\"What is the price?\")\n",
    "price = input()\n",
    "myorder = \"I want {} pieces of item {} for {} dollars.\"\n",
    "print(myorder.format(quantity, itemno, price))"
   ]
  },
  {
   "cell_type": "code",
   "execution_count": 14,
   "metadata": {},
   "outputs": [
    {
     "name": "stdout",
     "output_type": "stream",
     "text": [
      "I want to pay 49.95 dollars for 3 pieces of item 567.\n"
     ]
    }
   ],
   "source": [
    "quantity = 3\n",
    "itemno = 567\n",
    "price = 49.95\n",
    "myorder = \"I want to pay {2} dollars for {0} pieces of item {1}.\"\n",
    "print(myorder.format(quantity, itemno, price))"
   ]
  },
  {
   "cell_type": "code",
   "execution_count": 13,
   "metadata": {},
   "outputs": [
    {
     "data": {
      "text/plain": [
       "<function str.center(width, fillchar=' ', /)>"
      ]
     },
     "execution_count": 13,
     "metadata": {},
     "output_type": "execute_result"
    }
   ],
   "source": [
    "#string, dot and then enter tab button\n",
    "myorder.center"
   ]
  },
  {
   "cell_type": "code",
   "execution_count": 15,
   "metadata": {},
   "outputs": [
    {
     "name": "stdout",
     "output_type": "stream",
     "text": [
      "True\n",
      "False\n",
      "False\n"
     ]
    }
   ],
   "source": [
    "#boolean\n",
    "print(10 > 9)\n",
    "print(10 == 9)\n",
    "print(10 < 9)"
   ]
  },
  {
   "cell_type": "code",
   "execution_count": 36,
   "metadata": {},
   "outputs": [
    {
     "name": "stdout",
     "output_type": "stream",
     "text": [
      "['abc', 'def', 'ghi', 1, 3, 1.23]\n",
      "ghi\n",
      "['abc', 'def', 'ghi']\n",
      "['abc', 'def', 'ghi', 1]\n",
      "['ghi', 1, 3, 1.23]\n",
      "['abc', 'def', 'ayansh', 1, 3, 1.23]\n"
     ]
    }
   ],
   "source": [
    "#list\n",
    "mytlist=[\"abc\", \"def\", \"ghi\", 1, 3, 1.23]\n",
    "print(mytlist)\n",
    "print(mytlist[2])\n",
    "print(mytlist[0:3])\n",
    "print(mytlist[:4])\n",
    "print(mytlist[2:])\n",
    "#change the item in the list\n",
    "mytlist[2]=\"ayansh\"\n",
    "print(mytlist)"
   ]
  },
  {
   "cell_type": "code",
   "execution_count": 23,
   "metadata": {},
   "outputs": [
    {
     "name": "stdout",
     "output_type": "stream",
     "text": [
      "abc\n",
      "def\n",
      "ghi\n",
      "1\n",
      "3\n",
      "1.23\n"
     ]
    }
   ],
   "source": [
    "for i in mytlist:\n",
    "    print(i)"
   ]
  },
  {
   "cell_type": "code",
   "execution_count": null,
   "metadata": {},
   "outputs": [],
   "source": []
  }
 ],
 "metadata": {
  "kernelspec": {
   "display_name": "Python 3",
   "language": "python",
   "name": "python3"
  },
  "language_info": {
   "codemirror_mode": {
    "name": "ipython",
    "version": 3
   },
   "file_extension": ".py",
   "mimetype": "text/x-python",
   "name": "python",
   "nbconvert_exporter": "python",
   "pygments_lexer": "ipython3",
   "version": "3.8.5"
  }
 },
 "nbformat": 4,
 "nbformat_minor": 4
}
