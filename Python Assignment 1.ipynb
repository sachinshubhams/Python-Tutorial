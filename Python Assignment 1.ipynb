{
 "cells": [
  {
   "cell_type": "code",
   "execution_count": null,
   "metadata": {},
   "outputs": [],
   "source": [
    "\"\"\" Sachin, Peoplesoft ID: 1524147\n",
    "\n",
    " Program #1: Sharing the bill\n",
    "\n",
    " This program computes individual shares of a restaurant bill. \"\"\""
   ]
  },
  {
   "cell_type": "code",
   "execution_count": 7,
   "metadata": {},
   "outputs": [
    {
     "name": "stdout",
     "output_type": "stream",
     "text": [
      "Enter the number of friends: \n",
      "1\n",
      "Enter name of friend:\n",
      "cocroach\n",
      "Enter name of friend:\n",
      "hh\n",
      "Enter name of friend:\n",
      "jj\n",
      "Enter name of friend:\n",
      "mnm\n",
      "Enter name of friend:\n",
      " m\n",
      "Enter bill for cocroach : \n",
      "mmmm\n"
     ]
    },
    {
     "ename": "ValueError",
     "evalue": "could not convert string to float: 'mmmm'",
     "output_type": "error",
     "traceback": [
      "\u001b[1;31m---------------------------------------------------------------------------\u001b[0m",
      "\u001b[1;31mValueError\u001b[0m                                Traceback (most recent call last)",
      "\u001b[1;32m<ipython-input-7-da3eb2c11511>\u001b[0m in \u001b[0;36m<module>\u001b[1;34m\u001b[0m\n\u001b[0;32m     37\u001b[0m     \u001b[1;32mreturn\u001b[0m \u001b[0mavgTotal\u001b[0m\u001b[1;33m\u001b[0m\u001b[1;33m\u001b[0m\u001b[0m\n\u001b[0;32m     38\u001b[0m \u001b[1;33m\u001b[0m\u001b[0m\n\u001b[1;32m---> 39\u001b[1;33m \u001b[0msplit_the_check\u001b[0m\u001b[1;33m(\u001b[0m\u001b[1;36m5\u001b[0m\u001b[1;33m)\u001b[0m\u001b[1;33m\u001b[0m\u001b[1;33m\u001b[0m\u001b[0m\n\u001b[0m",
      "\u001b[1;32m<ipython-input-7-da3eb2c11511>\u001b[0m in \u001b[0;36msplit_the_check\u001b[1;34m(number_of_friends)\u001b[0m\n\u001b[0;32m     15\u001b[0m \u001b[1;33m\u001b[0m\u001b[0m\n\u001b[0;32m     16\u001b[0m     \u001b[0mprint\u001b[0m\u001b[1;33m(\u001b[0m\u001b[1;34mf'Enter bill for {name1} : '\u001b[0m\u001b[1;33m)\u001b[0m\u001b[1;33m\u001b[0m\u001b[1;33m\u001b[0m\u001b[0m\n\u001b[1;32m---> 17\u001b[1;33m     \u001b[0mbill1\u001b[0m \u001b[1;33m=\u001b[0m \u001b[0mfloat\u001b[0m\u001b[1;33m(\u001b[0m\u001b[0minput\u001b[0m\u001b[1;33m(\u001b[0m\u001b[1;33m)\u001b[0m\u001b[1;33m)\u001b[0m\u001b[1;33m\u001b[0m\u001b[1;33m\u001b[0m\u001b[0m\n\u001b[0m\u001b[0;32m     18\u001b[0m     \u001b[0mprint\u001b[0m\u001b[1;33m(\u001b[0m\u001b[1;34mf'Enter bill for {name2} : '\u001b[0m\u001b[1;33m)\u001b[0m\u001b[1;33m\u001b[0m\u001b[1;33m\u001b[0m\u001b[0m\n\u001b[0;32m     19\u001b[0m     \u001b[0mbill2\u001b[0m \u001b[1;33m=\u001b[0m \u001b[0mfloat\u001b[0m\u001b[1;33m(\u001b[0m\u001b[0minput\u001b[0m\u001b[1;33m(\u001b[0m\u001b[1;33m)\u001b[0m\u001b[1;33m)\u001b[0m\u001b[1;33m\u001b[0m\u001b[1;33m\u001b[0m\u001b[0m\n",
      "\u001b[1;31mValueError\u001b[0m: could not convert string to float: 'mmmm'"
     ]
    }
   ],
   "source": [
    "#Replace pass with body of statement to complete the homework\n",
    "def split_the_check(number_of_friends):\n",
    "    print('Enter the number of friends: ')\n",
    "    number_of_friends = int(input())\n",
    "    print('Enter name of friend:')\n",
    "    name1 = input()\n",
    "    print('Enter name of friend:')\n",
    "    name2 = input()\n",
    "    print('Enter name of friend:')\n",
    "    name3 = input()\n",
    "    print('Enter name of friend:')\n",
    "    name4 = input()\n",
    "    print('Enter name of friend:')\n",
    "    name5 = input()\n",
    "    \n",
    "    print(f'Enter bill for {name1} : ')\n",
    "    bill1 = float(input())\n",
    "    print(f'Enter bill for {name2} : ')\n",
    "    bill2 = float(input())\n",
    "    print(f'Enter bill for {name3} : ')\n",
    "    bill3 = float(input())\n",
    "    print(f'Enter bill for {name4} : ')\n",
    "    bill4 = float(input())\n",
    "    print(f'Enter bill for {name5} : ')\n",
    "    bill5 = float(input())\n",
    "    print('Names of Friends: '+name1+','+name2+','+name3+','+name4+','+name5)\n",
    "    print(f'Individual bills: {bill1,bill2,bill3,bill4,bill5}')\n",
    "    \n",
    "    totalbill=bill1+bill2+bill3+bill4+bill5\n",
    "    print('Enter tip percentage: ')\n",
    "    tipPercent = float(input())\n",
    "    tipAmount=(tipPercent*totalbill)/100\n",
    "    totalBill=totalbill+tipAmount\n",
    "    print(f'Total bill plus tip: $ {round(totalBill,2)}')\n",
    "    avgTotal=(totalBill)/5\n",
    "    print(f'Each of us must pay $ {round(avgTotal,2)}')\n",
    "    return avgTotal\n",
    "\n",
    "split_the_check(5)"
   ]
  },
  {
   "cell_type": "code",
   "execution_count": null,
   "metadata": {},
   "outputs": [],
   "source": []
  },
  {
   "cell_type": "code",
   "execution_count": null,
   "metadata": {},
   "outputs": [],
   "source": []
  },
  {
   "cell_type": "code",
   "execution_count": null,
   "metadata": {},
   "outputs": [],
   "source": [
    "    "
   ]
  },
  {
   "cell_type": "markdown",
   "metadata": {},
   "source": [
    "# "
   ]
  }
 ],
 "metadata": {
  "kernelspec": {
   "display_name": "Python 3",
   "language": "python",
   "name": "python3"
  },
  "language_info": {
   "codemirror_mode": {
    "name": "ipython",
    "version": 3
   },
   "file_extension": ".py",
   "mimetype": "text/x-python",
   "name": "python",
   "nbconvert_exporter": "python",
   "pygments_lexer": "ipython3",
   "version": "3.8.5"
  }
 },
 "nbformat": 4,
 "nbformat_minor": 2
}
