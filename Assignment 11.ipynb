{
 "cells": [
  {
   "cell_type": "code",
   "execution_count": 5,
   "metadata": {},
   "outputs": [],
   "source": [
    "#Json to Array : an array with each element of an array is each value of each key of that json object \n",
    "def getArray(a): #define a function named getArray(a)\n",
    "    arr=[] #declare an empty array\n",
    "    for i,j in a.items(): #loop through dictionary(a) and iterating key and value of json\n",
    "        arr.append(j) #appending key each value of each key in array(arr)\n",
    "    print(arr) #print array     "
   ]
  },
  {
   "cell_type": "code",
   "execution_count": 6,
   "metadata": {},
   "outputs": [
    {
     "name": "stdout",
     "output_type": "stream",
     "text": [
      "['bar', 'foo']\n"
     ]
    }
   ],
   "source": [
    "a = {\"coding\": \"bar\", \"algo\": \"foo\"}\n",
    "getArray(a)"
   ]
  },
  {
   "cell_type": "code",
   "execution_count": 1,
   "metadata": {},
   "outputs": [],
   "source": [
    "#Checking Palindrome by converting the parameter into a string \n",
    "def checkPalindromeStr(s): #define a function named checkPalindromeStr(s)\n",
    "    st=str(s) #convert parameter to String\n",
    "    cnt = 0 #declare a vaiable name cnt and initialise it\n",
    "    for i in range(0, int(len(st) / 2)) : #loop through from range zero to length of string divided by 2\n",
    "        if (st[i] != st[len(st) - i - 1]) : #checking condition \n",
    "            cnt = cnt + 1 #increasing cnt     \n",
    "    if(cnt < 1) : #checking condition\n",
    "        return True #return true if number is Palindrome\n",
    "    else : #else \n",
    "        return False #return false if number is not Palindrome"
   ]
  },
  {
   "cell_type": "code",
   "execution_count": 18,
   "metadata": {},
   "outputs": [
    {
     "data": {
      "text/plain": [
       "True"
      ]
     },
     "execution_count": 18,
     "metadata": {},
     "output_type": "execute_result"
    }
   ],
   "source": [
    "checkPalindromeStr(121)"
   ]
  },
  {
   "cell_type": "code",
   "execution_count": 19,
   "metadata": {},
   "outputs": [
    {
     "data": {
      "text/plain": [
       "False"
      ]
     },
     "execution_count": 19,
     "metadata": {},
     "output_type": "execute_result"
    }
   ],
   "source": [
    "checkPalindromeStr(234)"
   ]
  },
  {
   "cell_type": "code",
   "execution_count": 20,
   "metadata": {},
   "outputs": [],
   "source": [
    "#Checking Palindrome by without converting the parameter into a string \n",
    "def checkPalindromesInt(n): #define a function named checkPalindromesInt(s)\n",
    "    rem=0 #declare a vaiable name rem and initialise it\n",
    "    rev = 0 #declare a vaiable name rev and initialise it\n",
    "    temp= n #declare a temporary vaiable name temp \n",
    "    while n != 0: #while condition for checking input parameter (n) not equal to zero\n",
    "        rem = n%10 #get the reminder of input parameter (n)\n",
    "        rev = rev * 10 + rem #reverse and add the reminder\n",
    "        n = n // 10 #result down to the nearest whole number\n",
    "    if (rev == temp): #check the condition \n",
    "        return True #return true if number is Palindrome \n",
    "    else: #else\n",
    "        return False #return false if number is not Palindrome"
   ]
  },
  {
   "cell_type": "code",
   "execution_count": 21,
   "metadata": {},
   "outputs": [
    {
     "data": {
      "text/plain": [
       "True"
      ]
     },
     "execution_count": 21,
     "metadata": {},
     "output_type": "execute_result"
    }
   ],
   "source": [
    "checkPalindromesInt(121)"
   ]
  },
  {
   "cell_type": "code",
   "execution_count": 22,
   "metadata": {},
   "outputs": [
    {
     "data": {
      "text/plain": [
       "False"
      ]
     },
     "execution_count": 22,
     "metadata": {},
     "output_type": "execute_result"
    }
   ],
   "source": [
    "checkPalindromesInt(234)"
   ]
  },
  {
   "cell_type": "code",
   "execution_count": 227,
   "metadata": {},
   "outputs": [],
   "source": [
    "def occuranceString(arr):\n",
    "    for i in set(arr):\n",
    "        print(i,arr.count(i))"
   ]
  },
  {
   "cell_type": "code",
   "execution_count": 228,
   "metadata": {},
   "outputs": [
    {
     "name": "stdout",
     "output_type": "stream",
     "text": [
      "wed 1\n",
      "thu 1\n",
      "tue 1\n",
      "sun 2\n",
      "mon 3\n",
      "fri 1\n"
     ]
    }
   ],
   "source": [
    "weekdays = ['sun','mon','tue','wed','thu','fri','sun','mon','mon']\n",
    "occuranceString(weekdays)"
   ]
  },
  {
   "cell_type": "code",
   "execution_count": 49,
   "metadata": {},
   "outputs": [],
   "source": [
    "def is_prime(a):\n",
    "    x = True \n",
    "    for i in range(2, a):\n",
    "        if a%i == 0:\n",
    "            x = False\n",
    "            break \n",
    "    if x:\n",
    "        print (\"prime\")\n",
    "    else:\n",
    "        print (\"not prime\")"
   ]
  },
  {
   "cell_type": "code",
   "execution_count": 50,
   "metadata": {},
   "outputs": [
    {
     "name": "stdout",
     "output_type": "stream",
     "text": [
      "not prime\n"
     ]
    }
   ],
   "source": [
    "is_prime(4)"
   ]
  },
  {
   "cell_type": "code",
   "execution_count": 58,
   "metadata": {},
   "outputs": [
    {
     "name": "stdout",
     "output_type": "stream",
     "text": [
      "prime\n"
     ]
    }
   ],
   "source": [
    "is_prime(131)"
   ]
  },
  {
   "cell_type": "code",
   "execution_count": 120,
   "metadata": {},
   "outputs": [],
   "source": [
    "def isPrime(n):\n",
    "    if n%2==0 or n<2:\n",
    "        return False\n",
    "    for i in range(2,n):\n",
    "        if n%i == 0:\n",
    "            return False\n",
    "        else:\n",
    "            return True"
   ]
  },
  {
   "cell_type": "code",
   "execution_count": 131,
   "metadata": {},
   "outputs": [
    {
     "data": {
      "text/plain": [
       "False"
      ]
     },
     "execution_count": 131,
     "metadata": {},
     "output_type": "execute_result"
    }
   ],
   "source": [
    "isPrime(1)"
   ]
  },
  {
   "cell_type": "code",
   "execution_count": 223,
   "metadata": {},
   "outputs": [],
   "source": [
    "def revStr(s):\n",
    "    print(s[::-1])"
   ]
  },
  {
   "cell_type": "code",
   "execution_count": 224,
   "metadata": {},
   "outputs": [
    {
     "name": "stdout",
     "output_type": "stream",
     "text": [
      "nihcas\n"
     ]
    }
   ],
   "source": [
    "revStr(\"sachin\")"
   ]
  },
  {
   "cell_type": "code",
   "execution_count": 219,
   "metadata": {},
   "outputs": [],
   "source": [
    "def getFibonacchi(count):\n",
    "    n1=0\n",
    "    n2=1\n",
    "    n3=0\n",
    "    print(n1,'\\n',n2)\n",
    "    for i in range(0,count):\n",
    "        n3=n1+n2\n",
    "        print(n3)\n",
    "        n1=n2\n",
    "        n2=n3"
   ]
  },
  {
   "cell_type": "code",
   "execution_count": 189,
   "metadata": {},
   "outputs": [
    {
     "name": "stdout",
     "output_type": "stream",
     "text": [
      "0 \n",
      " 1\n",
      "1\n",
      "2\n",
      "3\n",
      "5\n",
      "8\n",
      "13\n",
      "21\n",
      "34\n",
      "55\n",
      "89\n",
      "144\n",
      "233\n",
      "377\n"
     ]
    }
   ],
   "source": [
    "getFibonacchi(13)"
   ]
  },
  {
   "cell_type": "code",
   "execution_count": 216,
   "metadata": {},
   "outputs": [],
   "source": [
    "def sort(arr):\n",
    "    \n",
    "    for i in range(len(arr)):\n",
    "        for j in range(i+1,len(arr)):\n",
    "            temp=0\n",
    "            if arr[i]>arr[j]:\n",
    "                temp=arr[i]\n",
    "                arr[i]=arr[j]\n",
    "                arr[j]=temp\n",
    "        print(arr[i])            \n",
    "            \n",
    "        "
   ]
  },
  {
   "cell_type": "code",
   "execution_count": 217,
   "metadata": {},
   "outputs": [
    {
     "name": "stdout",
     "output_type": "stream",
     "text": [
      "1\n",
      "3\n",
      "3\n",
      "8\n",
      "33\n",
      "43\n",
      "44\n",
      "56\n",
      "454\n",
      "512\n",
      "999\n"
     ]
    }
   ],
   "source": [
    "arr = [ 1, 3, 43, 454, 3, 56, 44, 33, 999, 512, 8 ];\n",
    "sort(arr)"
   ]
  }
 ],
 "metadata": {
  "kernelspec": {
   "display_name": "Python 3",
   "language": "python",
   "name": "python3"
  },
  "language_info": {
   "codemirror_mode": {
    "name": "ipython",
    "version": 3
   },
   "file_extension": ".py",
   "mimetype": "text/x-python",
   "name": "python",
   "nbconvert_exporter": "python",
   "pygments_lexer": "ipython3",
   "version": "3.8.5"
  }
 },
 "nbformat": 4,
 "nbformat_minor": 4
}
