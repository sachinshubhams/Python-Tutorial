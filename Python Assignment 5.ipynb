{
 "cells": [
  {
   "cell_type": "markdown",
   "metadata": {},
   "source": [
    "<pre>\n",
    "Suppose you want to find the slope between two points (a, f(a)) and (b, f(b)) \n",
    "where f(x) = x^2+ 2x –7.\n",
    "\n",
    "1.) Enter the one-line function f(x) = x^2+ 2x –7.\n",
    "2.) Create a function g(a, b) that will find the slope between two points x = a and x = b on f(x).\n",
    "\n",
    "hint: g(a,b)= (f(b)-f(a))/(b-a)\n",
    "\n",
    "3.) Use g to find the slope between x = 3 and x = 5\n",
    "\n",
    "4.) Use g to find the slope between x = -2 and x = 7\n",
    "\n",
    "5. ) Use central difference formular to create a function for  compute derivate of f(x)\n",
    "hint f′(x)≈ (f(x+h) − f(x−h) )/2h \n",
    "</pre>"
   ]
  },
  {
   "cell_type": "code",
   "execution_count": 1,
   "metadata": {},
   "outputs": [
    {
     "data": {
      "text/plain": [
       "8"
      ]
     },
     "execution_count": 1,
     "metadata": {},
     "output_type": "execute_result"
    }
   ],
   "source": [
    "#1\n",
    "f=lambda x: x**2 + 2*x - 7\n",
    "f(3)"
   ]
  },
  {
   "cell_type": "code",
   "execution_count": 2,
   "metadata": {},
   "outputs": [],
   "source": [
    "#2\n",
    "g= lambda a,b : (f(b)-f(a))/(b-a)"
   ]
  },
  {
   "cell_type": "code",
   "execution_count": 3,
   "metadata": {},
   "outputs": [
    {
     "name": "stdout",
     "output_type": "stream",
     "text": [
      "10.0\n"
     ]
    }
   ],
   "source": [
    "#3\n",
    "print (g(3,5))"
   ]
  },
  {
   "cell_type": "code",
   "execution_count": 4,
   "metadata": {},
   "outputs": [
    {
     "name": "stdout",
     "output_type": "stream",
     "text": [
      "7.0\n"
     ]
    }
   ],
   "source": [
    "#4\n",
    "print (g(-2,7))"
   ]
  },
  {
   "cell_type": "code",
   "execution_count": 5,
   "metadata": {},
   "outputs": [
    {
     "name": "stdout",
     "output_type": "stream",
     "text": [
      "10.000000000001563\n"
     ]
    }
   ],
   "source": [
    "#5\n",
    "\n",
    "def f2(myfun, x, h=0.001):\n",
    "    return ((f(x+h) - f(x-h)) / (2*h))\n",
    "\n",
    "print (f2(f,4)) "
   ]
  },
  {
   "cell_type": "code",
   "execution_count": null,
   "metadata": {},
   "outputs": [],
   "source": []
  }
 ],
 "metadata": {
  "kernelspec": {
   "display_name": "Python 3",
   "language": "python",
   "name": "python3"
  },
  "language_info": {
   "codemirror_mode": {
    "name": "ipython",
    "version": 3
   },
   "file_extension": ".py",
   "mimetype": "text/x-python",
   "name": "python",
   "nbconvert_exporter": "python",
   "pygments_lexer": "ipython3",
   "version": "3.8.5"
  }
 },
 "nbformat": 4,
 "nbformat_minor": 4
}
