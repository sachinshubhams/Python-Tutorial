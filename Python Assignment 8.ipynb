{
 "cells": [
  {
   "cell_type": "markdown",
   "metadata": {},
   "source": [
    "###### 1. Write a python program that will find the longest word in a file. The program should print the word and the number of characters in that word. Hint you would be using dictionaries, string module, and files for this exercise. The file for this exercise is ‘TomSawyer.txt’"
   ]
  },
  {
   "cell_type": "code",
   "execution_count": 35,
   "metadata": {},
   "outputs": [],
   "source": [
    "def find_longest_word(filename):\n",
    "    f = open(filename, \"r\")\n",
    "    st=f.read().strip().lower().replace(\")\",\" \").replace(\",\",\" \")\n",
    "    stWord=st.split()\n",
    "    temp=[]\n",
    "    items= dict()\n",
    "    for i in stWord:\n",
    "        dic={len(i):i}\n",
    "        items.update(dic) \n",
    "    mx=max(items.keys())\n",
    "    if mx in items:\n",
    "        print(mx, items.get(mx))"
   ]
  },
  {
   "cell_type": "code",
   "execution_count": 36,
   "metadata": {},
   "outputs": [
    {
     "name": "stdout",
     "output_type": "stream",
     "text": [
      "30 http://www.gutenberg.net/7/74/\n"
     ]
    }
   ],
   "source": [
    "find_longest_word('C://Users//sachi//Downloads//TomSawyer.txt')"
   ]
  },
  {
   "cell_type": "code",
   "execution_count": null,
   "metadata": {},
   "outputs": [],
   "source": []
  }
 ],
 "metadata": {
  "kernelspec": {
   "display_name": "Python 3",
   "language": "python",
   "name": "python3"
  },
  "language_info": {
   "codemirror_mode": {
    "name": "ipython",
    "version": 3
   },
   "file_extension": ".py",
   "mimetype": "text/x-python",
   "name": "python",
   "nbconvert_exporter": "python",
   "pygments_lexer": "ipython3",
   "version": "3.8.5"
  }
 },
 "nbformat": 4,
 "nbformat_minor": 4
}
