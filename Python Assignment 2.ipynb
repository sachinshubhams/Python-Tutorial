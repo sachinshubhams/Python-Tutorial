{
 "cells": [
  {
   "cell_type": "markdown",
   "metadata": {},
   "source": [
    "# Part A\n",
    "#### Execute each cell. Address the question raised in each cell by  typing in your Answer repeat until you get it correctly.<br> <br>Note you are comparing your assumptions and solutions to how python acutually solves the problem."
   ]
  },
  {
   "cell_type": "code",
   "execution_count": 1,
   "metadata": {},
   "outputs": [
    {
     "name": "stdout",
     "output_type": "stream",
     "text": [
      "What is the value of 10/4 ?\n",
      "2.5\n",
      "2.5\n",
      "You are Correct\n"
     ]
    }
   ],
   "source": [
    "my_answer = eval (input (f'What is the value of 10/4 ?\\n'))\n",
    "\n",
    "print(my_answer)\n",
    "\n",
    "if my_answer== 10/4:\n",
    "    print(\"You are Correct\")\n",
    "else:\n",
    "    print(\"Wrong Answer, Try Again\")\n",
    "\n",
    "    \n"
   ]
  },
  {
   "cell_type": "code",
   "execution_count": 2,
   "metadata": {},
   "outputs": [
    {
     "name": "stdout",
     "output_type": "stream",
     "text": [
      "What is the value of 10//4 ?\n",
      "2\n",
      "2\n",
      "You are Correct\n"
     ]
    }
   ],
   "source": [
    "my_answer = eval (input (f'What is the value of 10//4 ?\\n'))\n",
    "\n",
    "print(my_answer)\n",
    "\n",
    "if my_answer== 10//4:\n",
    "    print(\"You are Correct\")\n",
    "else:\n",
    "    print(\"Wrong Answer, Try Again\")"
   ]
  },
  {
   "cell_type": "code",
   "execution_count": 4,
   "metadata": {},
   "outputs": [
    {
     "name": "stdout",
     "output_type": "stream",
     "text": [
      "What is the value of float(10//4) ?\n",
      "2.0\n",
      "2.0\n",
      "You are Correct\n"
     ]
    }
   ],
   "source": [
    "my_answer = eval (input (f'What is the value of float(10//4) ?\\n'))\n",
    "\n",
    "print(my_answer)\n",
    "\n",
    "if my_answer== float(10//4) and isinstance( my_answer, float) :\n",
    "    print(\"You are Correct\")\n",
    "else:\n",
    "    print(\"Wrong Answer, Try Again\")"
   ]
  },
  {
   "cell_type": "code",
   "execution_count": 22,
   "metadata": {},
   "outputs": [
    {
     "name": "stdout",
     "output_type": "stream",
     "text": [
      "What is the value of 2.0 + 10//3 ?\n",
      "5.0\n",
      "5.0\n",
      "You are Correct\n"
     ]
    }
   ],
   "source": [
    "my_answer = eval (input (f'What is the value of 2.0 + 10//3 ?\\n'))\n",
    "\n",
    "print(my_answer)\n",
    "\n",
    "if my_answer== 2.0 + 10//3  and isinstance( my_answer, float) :\n",
    "    print(\"You are Correct\")\n",
    "else:\n",
    "    print(\"Wrong Answer, Try Again\")"
   ]
  },
  {
   "cell_type": "code",
   "execution_count": 11,
   "metadata": {},
   "outputs": [
    {
     "name": "stdout",
     "output_type": "stream",
     "text": [
      "What is the value of int(10/4) ?\n",
      "2\n",
      "2\n",
      "You are Correct\n"
     ]
    }
   ],
   "source": [
    "my_answer = eval (input (f'What is the value of int(10/4) ?\\n'))\n",
    "\n",
    "print(my_answer)\n",
    "\n",
    "if my_answer== int(10/4) and isinstance( my_answer, int) :\n",
    "    print(\"You are Correct\")\n",
    "else:\n",
    "    print(\"Wrong Answer, Try Again\")"
   ]
  },
  {
   "cell_type": "code",
   "execution_count": 12,
   "metadata": {},
   "outputs": [
    {
     "name": "stdout",
     "output_type": "stream",
     "text": [
      "What is the value of int(4.3) ?\n",
      "4\n",
      "4\n",
      "You are Correct\n"
     ]
    }
   ],
   "source": [
    "my_answer = eval (input (f'What is the value of int(4.3) ?\\n'))\n",
    "\n",
    "print(my_answer)\n",
    "\n",
    "if my_answer== int(4.3) and isinstance( my_answer, int) :\n",
    "    print(\"You are Correct\")\n",
    "else:\n",
    "    print(\"Wrong Answer, Try Again\")"
   ]
  },
  {
   "cell_type": "code",
   "execution_count": 13,
   "metadata": {},
   "outputs": [
    {
     "name": "stdout",
     "output_type": "stream",
     "text": [
      "What is the value of 10.0/4.0 ?\n",
      "2.5\n",
      "2.5\n",
      "You are Correct\n"
     ]
    }
   ],
   "source": [
    "my_answer = eval (input (f'What is the value of 10.0/4.0 ?\\n'))\n",
    "\n",
    "print(my_answer)\n",
    "\n",
    "if my_answer == 10.0/4.0 and isinstance( my_answer, float) :\n",
    "    print(\"You are Correct\")\n",
    "else:\n",
    "    print(\"Wrong Answer, Try Again\")"
   ]
  },
  {
   "cell_type": "code",
   "execution_count": 14,
   "metadata": {},
   "outputs": [
    {
     "name": "stdout",
     "output_type": "stream",
     "text": [
      "What is the value of 10 % 4 ?\n",
      "2\n",
      "2\n",
      "You are Correct\n"
     ]
    }
   ],
   "source": [
    "my_answer = eval (input (f'What is the value of 10 % 4 ?\\n'))\n",
    "\n",
    "print(my_answer)\n",
    "\n",
    "if my_answer == 10%4 and isinstance( my_answer, int) :\n",
    "    print(\"You are Correct\")\n",
    "else:\n",
    "    print(\"Wrong Answer, Try Again\")"
   ]
  },
  {
   "cell_type": "code",
   "execution_count": 16,
   "metadata": {},
   "outputs": [
    {
     "name": "stdout",
     "output_type": "stream",
     "text": [
      "What is the value of 2 % 10 ?\n",
      "2\n",
      "2\n",
      "You are Correct\n"
     ]
    }
   ],
   "source": [
    "my_answer = eval (input (f'What is the value of 2 % 10 ?\\n'))\n",
    "\n",
    "print(my_answer)\n",
    "\n",
    "if my_answer == 10 % 4 and isinstance( my_answer, int) :\n",
    "    print(\"You are Correct\")\n",
    "else:\n",
    "    print(\"Wrong Answer, Try Again\")"
   ]
  },
  {
   "cell_type": "code",
   "execution_count": 21,
   "metadata": {},
   "outputs": [
    {
     "name": "stdout",
     "output_type": "stream",
     "text": [
      "What is the value of 2.2 + 10//3 ?\n",
      "5.2\n",
      "5.2\n",
      "You are Correct\n"
     ]
    }
   ],
   "source": [
    "my_answer = eval (input (f'What is the value of 2.2 + 10//3 ?\\n'))\n",
    "\n",
    "print(my_answer)\n",
    "\n",
    "if my_answer== 2.2 + 10//3:\n",
    "    print(\"You are Correct\")\n",
    "else:\n",
    "    print(\"Wrong Answer, Try Again\")"
   ]
  },
  {
   "cell_type": "code",
   "execution_count": 23,
   "metadata": {},
   "outputs": [
    {
     "name": "stdout",
     "output_type": "stream",
     "text": [
      "What is the value of 9**3 ?\n",
      "729\n",
      "729\n",
      "You are Correct\n"
     ]
    }
   ],
   "source": [
    "my_answer = eval (input (f'What is the value of 9**3 ?\\n'))\n",
    "\n",
    "print(my_answer)\n",
    "\n",
    "if my_answer == 9**3 and isinstance( my_answer, int) :\n",
    "    print(\"You are Correct\")\n",
    "else:\n",
    "    print(\"Wrong Answer, Try Again\")"
   ]
  },
  {
   "cell_type": "code",
   "execution_count": 24,
   "metadata": {},
   "outputs": [
    {
     "name": "stdout",
     "output_type": "stream",
     "text": [
      "What is the value of 9 ** .5 ?\n",
      "3.0\n",
      "3.0\n",
      "You are Correct\n"
     ]
    }
   ],
   "source": [
    "my_answer = eval (input (f'What is the value of 9 ** .5 ?\\n'))\n",
    "\n",
    "print(my_answer)\n",
    "\n",
    "if my_answer == 9**.5 and isinstance( my_answer, float) :\n",
    "    print(\"You are Correct\")\n",
    "else:\n",
    "    print(\"Wrong Answer, Try Again\")"
   ]
  },
  {
   "cell_type": "code",
   "execution_count": 26,
   "metadata": {},
   "outputs": [
    {
     "name": "stdout",
     "output_type": "stream",
     "text": [
      "What is the value of 3 ** 2 ** 0 ?\n",
      "3\n",
      "3\n",
      "You are Correct\n"
     ]
    }
   ],
   "source": [
    "my_answer = eval (input (f'What is the value of 3 ** 2 ** 0 ?\\n'))\n",
    "\n",
    "print(my_answer)\n",
    "\n",
    "if my_answer == 3 ** 2 ** 0 and isinstance( my_answer, int) :\n",
    "    print(\"You are Correct\")\n",
    "else:\n",
    "    print(\"Wrong Answer, Try Again\")"
   ]
  },
  {
   "cell_type": "code",
   "execution_count": 27,
   "metadata": {},
   "outputs": [
    {
     "name": "stdout",
     "output_type": "stream",
     "text": [
      "What is the value of 2 ** 0 ** 3 ?\n",
      "1\n",
      "1\n",
      "You are Correct\n"
     ]
    }
   ],
   "source": [
    "my_answer = eval (input (f'What is the value of 2 ** 0 ** 3 ?\\n'))\n",
    "\n",
    "print(my_answer)\n",
    "\n",
    "if my_answer == 2 ** 0 ** 3 and isinstance( my_answer, int) :\n",
    "    print(\"You are Correct\")\n",
    "else:\n",
    "    print(\"Wrong Answer, Try Again\")"
   ]
  },
  {
   "cell_type": "code",
   "execution_count": 28,
   "metadata": {},
   "outputs": [
    {
     "name": "stdout",
     "output_type": "stream",
     "text": [
      "What is the value of 3.0 + 10 ?\n",
      "13.0\n",
      "13.0\n",
      "You are Correct\n"
     ]
    }
   ],
   "source": [
    "my_answer = eval (input (f'What is the value of 3.0 + 10 ?\\n'))\n",
    "\n",
    "print(my_answer)\n",
    "\n",
    "if my_answer == 3.0 + 10 and isinstance( my_answer, float) :\n",
    "    print(\"You are Correct\")\n",
    "else:\n",
    "    print(\"Wrong Answer, Try Again\")"
   ]
  },
  {
   "cell_type": "code",
   "execution_count": 33,
   "metadata": {},
   "outputs": [
    {
     "name": "stdout",
     "output_type": "stream",
     "text": [
      "What is the value of 4+2**8/4 ?\n",
      "68.0\n",
      "68.0\n",
      "You are Correct\n"
     ]
    }
   ],
   "source": [
    "my_answer = eval (input (f'What is the value of 4+2**8/4 ?\\n'))\n",
    "\n",
    "print(my_answer)\n",
    "\n",
    "if my_answer == 4+2**8/4 and isinstance( my_answer, float) :\n",
    "    print(\"You are Correct\")\n",
    "else:\n",
    "    print(\"Wrong Answer, Try Again\")"
   ]
  },
  {
   "cell_type": "markdown",
   "metadata": {},
   "source": [
    "# Part B\n",
    "######  In the problems below replace pass with python statement(s) that solves the problem"
   ]
  },
  {
   "cell_type": "markdown",
   "metadata": {},
   "source": [
    "#### 1. Write a single Python statement that will print the following message to the screen:  I’m super excited about computer science"
   ]
  },
  {
   "cell_type": "code",
   "execution_count": 34,
   "metadata": {},
   "outputs": [
    {
     "name": "stdout",
     "output_type": "stream",
     "text": [
      "I’m super excited about computer science\n"
     ]
    }
   ],
   "source": [
    "def my_message():\n",
    "    print('I’m super excited about computer science')\n",
    "\n",
    "\n",
    "my_message()"
   ]
  },
  {
   "cell_type": "markdown",
   "metadata": {},
   "source": [
    "#### 2. Complete the function that creates a variable called day and assign the value Wednesday. What is the data type for that variable?"
   ]
  },
  {
   "cell_type": "code",
   "execution_count": 37,
   "metadata": {},
   "outputs": [
    {
     "name": "stdout",
     "output_type": "stream",
     "text": [
      "<class 'str'>\n"
     ]
    }
   ],
   "source": [
    "def my_type():\n",
    "    day = 'Wednesday'\n",
    "    print(type(day))\n",
    "\n",
    "\n",
    "my_type()\n",
    " \n"
   ]
  },
  {
   "cell_type": "markdown",
   "metadata": {},
   "source": [
    "#### 3. Request the user to type his/her first name and assign it to a variable called first_name. Then request the user to type his/her last name and store in variable last_name. Then print the following message (in a single line): Hi <first name> <last name>, how’s it going?"
   ]
  },
  {
   "cell_type": "code",
   "execution_count": 48,
   "metadata": {},
   "outputs": [
    {
     "name": "stdout",
     "output_type": "stream",
     "text": [
      "Please provide your first name\n",
      "Kunal\n",
      "Please provide your last name\n",
      "Sehta\n",
      "Hi Kunal Sehta, how’s it going?\n"
     ]
    }
   ],
   "source": [
    "def my_message2():\n",
    "    print('Please provide your first name')\n",
    "    first_name = (input())\n",
    "    print('Please provide your last name')\n",
    "    last_name = (input())\n",
    "    print(f'Hi {first_name} {last_name}, how’s it going?')\n",
    "my_message2()"
   ]
  },
  {
   "cell_type": "markdown",
   "metadata": {},
   "source": [
    "##### 4. Request the user for their birth year and compute his/her age. Send a message to the screen with the age.\n",
    " "
   ]
  },
  {
   "cell_type": "code",
   "execution_count": 49,
   "metadata": {},
   "outputs": [
    {
     "name": "stdout",
     "output_type": "stream",
     "text": [
      "Please provide your Birth year\n",
      "1995\n",
      "Your age is 26\n"
     ]
    }
   ],
   "source": [
    "def my_message3():\n",
    "    print('Please provide your Birth year')\n",
    "    birth_year = int(input())\n",
    "    age = 2021 - birth_year\n",
    "    print(f'Your age is {age}')\n",
    "my_message3()"
   ]
  },
  {
   "cell_type": "markdown",
   "metadata": {},
   "source": [
    "#### 5. Calculate the time it will take a runner to run a 10 miler with the following pace segments: the first mile at a pace of 8.5 minutes per mile, the following 4 miles at a pace of 8.15 minutes per mile, the following 4 miles at a pace of 8.10 and the last mile back at a relaxed pace of 8.5 minutes per mile.  "
   ]
  },
  {
   "cell_type": "code",
   "execution_count": 54,
   "metadata": {},
   "outputs": [
    {
     "name": "stdout",
     "output_type": "stream",
     "text": [
      "Enter time for first mile\n",
      "8.5\n",
      "Enter time for second mile\n",
      "8.15\n",
      "Enter time for third mile\n",
      "8.15\n",
      "Enter time for fourth mile\n",
      "8.15\n",
      "Enter time for fifth mile\n",
      "8.15\n",
      "Enter time for sixth mile\n",
      "8.10\n",
      "Enter time for seventh mile\n",
      "8.10\n",
      "Enter time for eigth mile\n",
      "8.10\n",
      "Enter time for nineth mile\n",
      "8.10\n",
      "Enter time for tenth mile\n",
      "8.5\n",
      "Average time taken for each mile: 8.2\n"
     ]
    }
   ],
   "source": [
    "def my_total_miles():\n",
    "    total_miles = 10\n",
    "    print('Enter time for first mile')\n",
    "    t1 = float(input())\n",
    "    print('Enter time for second mile')\n",
    "    t2 = float(input())\n",
    "    print('Enter time for third mile')\n",
    "    t3 = float(input())\n",
    "    print('Enter time for fourth mile')\n",
    "    t4 = float(input())\n",
    "    print('Enter time for fifth mile')\n",
    "    t5 = float(input())\n",
    "    print('Enter time for sixth mile')\n",
    "    t6 = float(input())\n",
    "    print('Enter time for seventh mile')\n",
    "    t7 = float(input())\n",
    "    print('Enter time for eigth mile')\n",
    "    t8 = float(input())\n",
    "    print('Enter time for nineth mile')\n",
    "    t9 = float(input())\n",
    "    print('Enter time for tenth mile')\n",
    "    t10 = float(input())\n",
    "    avg_time = (t1 + t2 +t3 + t4 + t5 + t6 + t7 + t8 + t9 + t10) / total_miles\n",
    "    print('Average time taken for each mile:',avg_time)\n",
    "my_total_miles()"
   ]
  },
  {
   "cell_type": "code",
   "execution_count": null,
   "metadata": {},
   "outputs": [],
   "source": []
  }
 ],
 "metadata": {
  "kernelspec": {
   "display_name": "Python 3",
   "language": "python",
   "name": "python3"
  },
  "language_info": {
   "codemirror_mode": {
    "name": "ipython",
    "version": 3
   },
   "file_extension": ".py",
   "mimetype": "text/x-python",
   "name": "python",
   "nbconvert_exporter": "python",
   "pygments_lexer": "ipython3",
   "version": "3.8.5"
  }
 },
 "nbformat": 4,
 "nbformat_minor": 2
}
