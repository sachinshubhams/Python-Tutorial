{
 "cells": [
  {
   "cell_type": "markdown",
   "metadata": {},
   "source": [
    "for loop"
   ]
  },
  {
   "cell_type": "code",
   "execution_count": 20,
   "metadata": {},
   "outputs": [],
   "source": [
    "item=[\"anshu\",\"arshu\",\"sunny\",\"katy\",\"houston\",\"hyderabad\",\"new york\"]"
   ]
  },
  {
   "cell_type": "code",
   "execution_count": 6,
   "metadata": {},
   "outputs": [
    {
     "name": "stdout",
     "output_type": "stream",
     "text": [
      "anshu\n",
      "arshu\n"
     ]
    }
   ],
   "source": [
    "for i in item:\n",
    "    print(i)\n",
    "    if i==\"arshu\":\n",
    "        break"
   ]
  },
  {
   "cell_type": "code",
   "execution_count": 8,
   "metadata": {},
   "outputs": [
    {
     "name": "stdout",
     "output_type": "stream",
     "text": [
      "anshu\n",
      "arshu\n",
      "sunny\n",
      "katy\n",
      "houston\n",
      "hyderabad\n"
     ]
    }
   ],
   "source": [
    "for i in item:\n",
    "    print(i)\n",
    "    if i==\"arshu\":\n",
    "        continue"
   ]
  },
  {
   "cell_type": "code",
   "execution_count": 10,
   "metadata": {},
   "outputs": [
    {
     "name": "stdout",
     "output_type": "stream",
     "text": [
      "anshu\n",
      "arshu\n",
      "sunny\n",
      "katy\n",
      "houston\n",
      "hyderabad\n"
     ]
    }
   ],
   "source": [
    "for i in range(len(item)):\n",
    "    print(item[i])"
   ]
  },
  {
   "cell_type": "code",
   "execution_count": 11,
   "metadata": {},
   "outputs": [
    {
     "name": "stdout",
     "output_type": "stream",
     "text": [
      "anshu\n",
      "arshu\n",
      "sunny\n",
      "katy\n"
     ]
    }
   ],
   "source": [
    "for i in range(4):\n",
    "    print(item[i])"
   ]
  },
  {
   "cell_type": "code",
   "execution_count": 12,
   "metadata": {},
   "outputs": [
    {
     "name": "stdout",
     "output_type": "stream",
     "text": [
      "sunny\n",
      "katy\n"
     ]
    }
   ],
   "source": [
    "for i in range(2,4):\n",
    "    print(item[i])"
   ]
  },
  {
   "cell_type": "code",
   "execution_count": 23,
   "metadata": {},
   "outputs": [
    {
     "name": "stdout",
     "output_type": "stream",
     "text": [
      "arshu\n",
      "katy\n",
      "hyderabad\n"
     ]
    }
   ],
   "source": [
    "for i in range(1,7,2):\n",
    "    print(item[i])"
   ]
  },
  {
   "cell_type": "code",
   "execution_count": 26,
   "metadata": {},
   "outputs": [
    {
     "name": "stdout",
     "output_type": "stream",
     "text": [
      "anshu boston\n",
      "anshu dallas\n",
      "anshu san antonio\n",
      "arshu boston\n",
      "arshu dallas\n",
      "arshu san antonio\n",
      "sunny boston\n",
      "sunny dallas\n",
      "sunny san antonio\n",
      "katy boston\n",
      "katy dallas\n",
      "katy san antonio\n",
      "houston boston\n",
      "houston dallas\n",
      "houston san antonio\n",
      "hyderabad boston\n",
      "hyderabad dallas\n",
      "hyderabad san antonio\n",
      "new york boston\n",
      "new york dallas\n",
      "new york san antonio\n"
     ]
    }
   ],
   "source": [
    "#nested loop\n",
    "item1=[\"anshu\",\"arshu\",\"sunny\",\"katy\",\"houston\",\"hyderabad\",\"new york\"]\n",
    "item2=[\"boston\",\"dallas\",\"san antonio\"]\n",
    "for i in item1:\n",
    "    for j in item2:\n",
    "        print(i,j)"
   ]
  },
  {
   "cell_type": "markdown",
   "metadata": {},
   "source": [
    "Function"
   ]
  },
  {
   "cell_type": "code",
   "execution_count": 28,
   "metadata": {},
   "outputs": [
    {
     "data": {
      "text/plain": [
       "7"
      ]
     },
     "execution_count": 28,
     "metadata": {},
     "output_type": "execute_result"
    }
   ],
   "source": [
    "a=2\n",
    "b=5\n",
    "c=a+b\n",
    "c"
   ]
  },
  {
   "cell_type": "code",
   "execution_count": 30,
   "metadata": {},
   "outputs": [],
   "source": [
    "def addNumber(a,b):\n",
    "    return a+b"
   ]
  },
  {
   "cell_type": "code",
   "execution_count": 32,
   "metadata": {},
   "outputs": [
    {
     "data": {
      "text/plain": [
       "8"
      ]
     },
     "execution_count": 32,
     "metadata": {},
     "output_type": "execute_result"
    }
   ],
   "source": [
    "addNumber(2,6)"
   ]
  },
  {
   "cell_type": "code",
   "execution_count": 33,
   "metadata": {},
   "outputs": [
    {
     "data": {
      "text/plain": [
       "7010"
      ]
     },
     "execution_count": 33,
     "metadata": {},
     "output_type": "execute_result"
    }
   ],
   "source": [
    "addNumber(122,6888)"
   ]
  },
  {
   "cell_type": "code",
   "execution_count": 38,
   "metadata": {},
   "outputs": [],
   "source": [
    "#void\n",
    "def printNum():\n",
    "    print(\"i am anshu\")"
   ]
  },
  {
   "cell_type": "code",
   "execution_count": 37,
   "metadata": {},
   "outputs": [
    {
     "name": "stdout",
     "output_type": "stream",
     "text": [
      "i am anshu\n"
     ]
    }
   ],
   "source": [
    "printNum()"
   ]
  },
  {
   "cell_type": "code",
   "execution_count": 41,
   "metadata": {},
   "outputs": [],
   "source": [
    "def myName(myName):\n",
    "    return 'hello '+ myName"
   ]
  },
  {
   "cell_type": "code",
   "execution_count": 42,
   "metadata": {},
   "outputs": [
    {
     "data": {
      "text/plain": [
       "'hello sachin'"
      ]
     },
     "execution_count": 42,
     "metadata": {},
     "output_type": "execute_result"
    }
   ],
   "source": [
    "myName(\"sachin\")"
   ]
  },
  {
   "cell_type": "code",
   "execution_count": 43,
   "metadata": {},
   "outputs": [],
   "source": [
    "def multiplyNum(a,b):\n",
    "    return a*b"
   ]
  },
  {
   "cell_type": "code",
   "execution_count": 46,
   "metadata": {},
   "outputs": [
    {
     "data": {
      "text/plain": [
       "20278.628298947235"
      ]
     },
     "execution_count": 46,
     "metadata": {},
     "output_type": "execute_result"
    }
   ],
   "source": [
    "multiplyNum(455.44,44.52535635637457457)"
   ]
  },
  {
   "cell_type": "code",
   "execution_count": 47,
   "metadata": {},
   "outputs": [],
   "source": [
    "def divideNum(a,b):\n",
    "    return a/b"
   ]
  },
  {
   "cell_type": "code",
   "execution_count": 59,
   "metadata": {},
   "outputs": [
    {
     "data": {
      "text/plain": [
       "-99565.91372226787"
      ]
     },
     "execution_count": 59,
     "metadata": {},
     "output_type": "execute_result"
    }
   ],
   "source": [
    "divideNum(242343434,-2434)"
   ]
  },
  {
   "cell_type": "markdown",
   "metadata": {},
   "source": [
    "Homework:\n",
    "\n",
    "1. write a function for calculating the area of rectangle.\n",
    "2. write a function for calculating the area of triangle.\n",
    "3. write a function for calculating the average speed(distance=speed * time).\n",
    "4. write a program for swapping two number.\n",
    "    for example:\n",
    "        input: a=5,b=7\n",
    "        output:a=7,b=5\n"
   ]
  },
  {
   "cell_type": "code",
   "execution_count": null,
   "metadata": {},
   "outputs": [],
   "source": []
  }
 ],
 "metadata": {
  "kernelspec": {
   "display_name": "Python 3",
   "language": "python",
   "name": "python3"
  },
  "language_info": {
   "codemirror_mode": {
    "name": "ipython",
    "version": 3
   },
   "file_extension": ".py",
   "mimetype": "text/x-python",
   "name": "python",
   "nbconvert_exporter": "python",
   "pygments_lexer": "ipython3",
   "version": "3.8.5"
  }
 },
 "nbformat": 4,
 "nbformat_minor": 4
}
