{
 "cells": [
  {
   "cell_type": "markdown",
   "metadata": {},
   "source": [
    "### 1. Conditionals. Study the following code:\n",
    "<code>\n",
    "\n",
    "print (\"statement A\")\n",
    "if x > 0:\n",
    "    print (\"statement B\")\n",
    "elif x < 0:\n",
    "    print( \"statement C\")\n",
    "else:\n",
    "    print (\"statement D\")\n",
    "print ( \"statement E\")\n",
    "           \n",
    "\n",
    "</code>    "
   ]
  },
  {
   "cell_type": "code",
   "execution_count": 10,
   "metadata": {},
   "outputs": [
    {
     "name": "stdout",
     "output_type": "stream",
     "text": [
      "Which of the statements above (A, B, C, D, E) will be printed if x < 0?\n",
      "statement A statement C statement E\n",
      "statement A statement C statement E\n"
     ]
    }
   ],
   "source": [
    "ans=input(\"Which of the statements above (A, B, C, D, E) will be printed if x < 0?\\n\") \n",
    "print (ans)\n"
   ]
  },
  {
   "cell_type": "code",
   "execution_count": 11,
   "metadata": {},
   "outputs": [
    {
     "name": "stdout",
     "output_type": "stream",
     "text": [
      "Which of the statements above will be printed if x == 0?\n",
      "statement A statement D statement E\n",
      "statement A statement D statement E\n"
     ]
    }
   ],
   "source": [
    "ans=input(\"Which of the statements above will be printed if x == 0?\\n\") \n",
    "print (ans)"
   ]
  },
  {
   "cell_type": "code",
   "execution_count": 12,
   "metadata": {},
   "outputs": [
    {
     "name": "stdout",
     "output_type": "stream",
     "text": [
      "Which of the statements above will be printed if x > 0?\n",
      "statement A statement B statement E\n",
      "statement A statement B statement E\n"
     ]
    }
   ],
   "source": [
    "ans=input(\"Which of the statements above will be printed if x > 0?\\n\") \n",
    "print (ans)"
   ]
  },
  {
   "cell_type": "markdown",
   "metadata": {},
   "source": [
    "### 2. What are the value(s) returned after executing the following range code(s)\n",
    " "
   ]
  },
  {
   "cell_type": "code",
   "execution_count": 15,
   "metadata": {},
   "outputs": [
    {
     "name": "stdout",
     "output_type": "stream",
     "text": [
      "What is the value of list(range(5))?\n",
      "[0, 1, 2, 3, 4]\n",
      "[0, 1, 2, 3, 4]\n",
      "You are Correct\n"
     ]
    }
   ],
   "source": [
    "my_answer = eval (input (f'What is the value of list(range(5))?\\n'))\n",
    "\n",
    "print(my_answer)\n",
    "\n",
    "if my_answer== list(range(5)):\n",
    "    print(\"You are Correct\")\n",
    "else:\n",
    "    print(\"Wrong Answer, Try Again\")\n"
   ]
  },
  {
   "cell_type": "code",
   "execution_count": 17,
   "metadata": {},
   "outputs": [
    {
     "name": "stdout",
     "output_type": "stream",
     "text": [
      "What is the value of list(range(1,10))?\n",
      "[1, 2, 3, 4,5,6,7,8,9]\n",
      "[1, 2, 3, 4, 5, 6, 7, 8, 9]\n",
      "You are Correct\n"
     ]
    }
   ],
   "source": [
    "my_answer = eval (input (f'What is the value of list(range(1,10))?\\n'))\n",
    "\n",
    "print(my_answer)\n",
    "\n",
    "if my_answer== list(range(1,10)):\n",
    "    print(\"You are Correct\")\n",
    "else:\n",
    "    print(\"Wrong Answer, Try Again\")"
   ]
  },
  {
   "cell_type": "code",
   "execution_count": 18,
   "metadata": {},
   "outputs": [
    {
     "name": "stdout",
     "output_type": "stream",
     "text": [
      "What is the value of  list(range(1,30,5))?\n",
      "[1,6,11,16,21,26]\n",
      "[1, 6, 11, 16, 21, 26]\n",
      "You are Correct\n"
     ]
    }
   ],
   "source": [
    "my_answer = eval (input (f'What is the value of  list(range(1,30,5))?\\n'))\n",
    "\n",
    "print(my_answer)\n",
    "\n",
    "if my_answer== list(range(1,30,5)):\n",
    "    print(\"You are Correct\")\n",
    "else:\n",
    "    print(\"Wrong Answer, Try Again\")"
   ]
  },
  {
   "cell_type": "code",
   "execution_count": 20,
   "metadata": {},
   "outputs": [
    {
     "name": "stdout",
     "output_type": "stream",
     "text": [
      "What is the value of list(range(1,10,-3))?\n",
      "[]\n",
      "[]\n",
      "You are Correct\n"
     ]
    }
   ],
   "source": [
    "my_answer = eval (input (f'What is the value of list(range(1,10,-3))?\\n'))\n",
    "\n",
    "print(my_answer)\n",
    "\n",
    "if my_answer==  list(range(1,10, -3)):\n",
    "    print(\"You are Correct\")\n",
    "else:\n",
    "    print(\"Wrong Answer, Try Again\")"
   ]
  },
  {
   "cell_type": "markdown",
   "metadata": {},
   "source": [
    "### 3. What argument(s) could we give to the range() built-in function if we wanted the following lists to be generated? "
   ]
  },
  {
   "cell_type": "markdown",
   "metadata": {},
   "source": [
    "0, 1, 2, 3, 4, 5, 6, 7, 8, 9"
   ]
  },
  {
   "cell_type": "code",
   "execution_count": 137,
   "metadata": {},
   "outputs": [
    {
     "data": {
      "text/plain": [
       "range(0, 10)"
      ]
     },
     "execution_count": 137,
     "metadata": {},
     "output_type": "execute_result"
    }
   ],
   "source": [
    "range(0,10)"
   ]
  },
  {
   "cell_type": "markdown",
   "metadata": {},
   "source": [
    "3, 6, 9, 12, 15, 18"
   ]
  },
  {
   "cell_type": "code",
   "execution_count": 136,
   "metadata": {},
   "outputs": [
    {
     "data": {
      "text/plain": [
       "range(3, 20, 3)"
      ]
     },
     "execution_count": 136,
     "metadata": {},
     "output_type": "execute_result"
    }
   ],
   "source": [
    "range(3,20,3)"
   ]
  },
  {
   "cell_type": "markdown",
   "metadata": {},
   "source": [
    "-20, 200, 420, 640, 860"
   ]
  },
  {
   "cell_type": "code",
   "execution_count": 135,
   "metadata": {},
   "outputs": [
    {
     "data": {
      "text/plain": [
       "range(-20, 861, 220)"
      ]
     },
     "execution_count": 135,
     "metadata": {},
     "output_type": "execute_result"
    }
   ],
   "source": [
    "range(-20,861,220)"
   ]
  },
  {
   "cell_type": "code",
   "execution_count": null,
   "metadata": {},
   "outputs": [],
   "source": []
  },
  {
   "cell_type": "markdown",
   "metadata": {},
   "source": [
    "### 4. Consider the following variables have been defined with these values:\n",
    "<code>\n",
    "a = 3\n",
    "b = 0\n",
    "c = -4\n",
    "d = 10\n",
    "</code>   \n",
    "Answer what would be the result of the following Boolean expressions:"
   ]
  },
  {
   "cell_type": "code",
   "execution_count": 121,
   "metadata": {},
   "outputs": [
    {
     "name": "stdout",
     "output_type": "stream",
     "text": [
      "What is the value of (a > c) and (d != b)?\n",
      "True\n",
      "True\n",
      "You are Correct\n"
     ]
    }
   ],
   "source": [
    "a = 3; b = 0; c = -4; d = 10\n",
    "my_answer = eval (input (f'What is the value of (a > c) and (d != b)?\\n'))\n",
    "\n",
    "print(my_answer)\n",
    "\n",
    "if my_answer== ( (a > c) and (d != b) ):\n",
    "    print(\"You are Correct\")\n",
    "else:\n",
    "    print(\"Wrong Answer, Try Again\")"
   ]
  },
  {
   "cell_type": "code",
   "execution_count": 122,
   "metadata": {},
   "outputs": [
    {
     "name": "stdout",
     "output_type": "stream",
     "text": [
      "What is the value of (c <= b) or (b<= d)?\n",
      "True\n",
      "True\n",
      "You are Correct\n"
     ]
    }
   ],
   "source": [
    "a = 3; b = 0; c = -4; d = 10\n",
    "my_answer = eval (input (f'What is the value of (c <= b) or (b<= d)?\\n'))\n",
    "\n",
    "print(my_answer)\n",
    "\n",
    "if my_answer==  ( (c <= b) or (b<= d)):\n",
    "    print(\"You are Correct\")\n",
    "else:\n",
    "    print(\"Wrong Answer, Try Again\")"
   ]
  },
  {
   "cell_type": "code",
   "execution_count": 124,
   "metadata": {},
   "outputs": [
    {
     "name": "stdout",
     "output_type": "stream",
     "text": [
      "What is the value of not((c == d) and (c < a))?\n",
      "True\n",
      "True\n",
      "You are Correct\n"
     ]
    }
   ],
   "source": [
    "a = 3; b = 0; c = -4; d = 10\n",
    "my_answer = eval (input (f'What is the value of not((c == d) and (c < a))?\\n'))\n",
    "\n",
    "print(my_answer)\n",
    "\n",
    "if my_answer ==  (not((c == d) and (c < a))):\n",
    "    print(\"You are Correct\")\n",
    "else:\n",
    "    print(\"Wrong Answer, Try Again\")"
   ]
  },
  {
   "cell_type": "markdown",
   "metadata": {},
   "source": [
    "### 5. \n",
    "Write a program to play the guess the number game. The computer will pick a\n",
    "number between 1 and 100 and the user will try to guess the number in as few guesses\n",
    "as possible. Input: The user will enter a guess until the correct guess is entered The\n",
    "program will keep asking for a guess until the correct guess is entered. The program will\n",
    "also give hints to the user (number is too high, or too low) Output: The program will\n",
    "output the number of guesses. Below is a sample run of how the program should\n",
    "proceed:"
   ]
  },
  {
   "cell_type": "markdown",
   "metadata": {},
   "source": [
    "guess_game()<br><br>\n",
    "I am thinking of a number between 1 and 100\n",
    "<br>Can you guess what the number is?\n",
    "<br>Enter your guess<br>\n",
    "10\n",
    "<br>Too low!\n",
    "<br>Enter your guess<br>\n",
    "60\n",
    "<br>Too high!\n",
    "<br>Enter your guess<br>\n",
    "45\n",
    "<br>You win!!\n",
    "<br>You solved the problem in 3 guesses"
   ]
  },
  {
   "cell_type": "code",
   "execution_count": 48,
   "metadata": {},
   "outputs": [
    {
     "name": "stdout",
     "output_type": "stream",
     "text": [
      "I am thinking of a number between 1 and 100 \n",
      "Can you guess what the number is?\n",
      "Enter your guess\n",
      "50\n",
      "Too low!\n",
      "Enter your guess\n",
      "75\n",
      "Too low!\n",
      "Enter your guess\n",
      "89\n",
      "Too low!\n",
      "Enter your guess\n",
      "96\n",
      "Too low!\n",
      "Enter your guess\n",
      "98\n",
      "You win!!\n",
      "You solved the problem in 5 guesses!\n"
     ]
    }
   ],
   "source": [
    "\n",
    "import random\n",
    "def guess_game():\n",
    "    cnt = 0\n",
    "    randomNum = random.randint(1, 100)\n",
    "    print('I am thinking of a number between 1 and 100'+' \\n'+'Can you guess what the number is?')\n",
    "    while cnt < 1000:\n",
    "        print('Enter your guess') \n",
    "        guessNum = int(input())\n",
    "        cnt +=1\n",
    "\n",
    "        if (guessNum < randomNum):\n",
    "            print('Too low!')\n",
    "\n",
    "        if (guessNum > randomNum):\n",
    "            print('Too high!')\n",
    "\n",
    "        if (guessNum == randomNum):\n",
    "            break\n",
    "\n",
    "    if guessNum == randomNum:\n",
    "        cnt = str(cnt)\n",
    "        print('You win!!'+\"\\n\"+'You solved the problem in ' + cnt + ' guesses!')\n",
    "    \n",
    "        \n",
    "guess_game()"
   ]
  },
  {
   "cell_type": "markdown",
   "metadata": {},
   "source": [
    "#### 6\n",
    "Loops. Write a program to have the user input three (3) numbers: (f)rom, <br>(t)o, and (i)ncrement. Count from f to t in increments of i, inclusive of <br> f and t. For example, if the input is f == 2, t == 24, and i == 4,<br> the program would output: 2, 6, 10, 14, 18, 22."
   ]
  },
  {
   "cell_type": "code",
   "execution_count": 120,
   "metadata": {},
   "outputs": [
    {
     "name": "stdout",
     "output_type": "stream",
     "text": [
      "2\n",
      "6\n",
      "10\n",
      "14\n",
      "18\n",
      "22\n"
     ]
    }
   ],
   "source": [
    "def my_loop(f,t,i):\n",
    "    temp=0\n",
    "    for inc in range(f,t):\n",
    "        if (f<t):\n",
    "            f=f+i\n",
    "            print(f-i)        \n",
    "my_loop(2,24,4)\n"
   ]
  },
  {
   "cell_type": "code",
   "execution_count": null,
   "metadata": {},
   "outputs": [],
   "source": []
  },
  {
   "cell_type": "code",
   "execution_count": null,
   "metadata": {},
   "outputs": [],
   "source": []
  }
 ],
 "metadata": {
  "kernelspec": {
   "display_name": "Python 3",
   "language": "python",
   "name": "python3"
  },
  "language_info": {
   "codemirror_mode": {
    "name": "ipython",
    "version": 3
   },
   "file_extension": ".py",
   "mimetype": "text/x-python",
   "name": "python",
   "nbconvert_exporter": "python",
   "pygments_lexer": "ipython3",
   "version": "3.8.5"
  }
 },
 "nbformat": 4,
 "nbformat_minor": 4
}
