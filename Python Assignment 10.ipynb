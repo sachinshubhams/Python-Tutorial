{
 "cells": [
  {
   "cell_type": "markdown",
   "metadata": {},
   "source": [
    "1) Implement function easyCrypto() that takes as input a string and prints its encryption defined as follows: Every character at an odd position i in the alphabet will be encrypted with the character at position i + 1, and every character at an even position i will be encrypted with the character at position i - 1. In other words, ‘a’ is encrypted with ‘b’, ‘b’ with ‘a’, ‘c’ with ‘d’, ‘d’ with ‘c’, and so on. Lowercase characters should remain lowercase, and uppercase characters should remain uppercase.\n",
    "\n",
    "      easyCrypto( 'abc' )\n",
    "\n",
    "      bad\n",
    "\n",
    "      easyCrypto( 'Z00' )\n",
    "\n",
    "      YPP"
   ]
  },
  {
   "cell_type": "code",
   "execution_count": 489,
   "metadata": {},
   "outputs": [],
   "source": [
    "def easyCrypto(text):\n",
    "    s=\"\"\n",
    "    for i in range(len(text)):\n",
    "        if text.count(text[i]) > 1:\n",
    "            j = ord(text[i])\n",
    "            j += 1\n",
    "            t = chr(j)\n",
    "            s+=t\n",
    "        elif i%2==0:\n",
    "            if text[i]==\"Z\" or text[i]==\"z\":\n",
    "                j = ord(text[i])\n",
    "                j -= 1\n",
    "                t = chr(j)\n",
    "                s+=t\n",
    "            else:\n",
    "                j = ord(text[i])\n",
    "                j += 1\n",
    "                t = chr(j)\n",
    "                s+=t\n",
    "        elif i%2!=0:\n",
    "            j = ord(text[i])\n",
    "            j -= 1\n",
    "            t = chr(j)\n",
    "            s+=t\n",
    "            \n",
    "    return s     "
   ]
  },
  {
   "cell_type": "code",
   "execution_count": 490,
   "metadata": {},
   "outputs": [
    {
     "data": {
      "text/plain": [
       "'YPP'"
      ]
     },
     "execution_count": 490,
     "metadata": {},
     "output_type": "execute_result"
    }
   ],
   "source": [
    "easyCrypto('ZOO')"
   ]
  },
  {
   "cell_type": "markdown",
   "metadata": {},
   "source": [
    "2) Kids Game\n",
    "\n",
    "Develop a simple game that teaches kindergartners how to subtract single-digit numbers.\n",
    "\n",
    "Your function game() will take an integer n as input and then ask n single-digit  subtraction questions. The numbers to be subtracted should be chosen randomly from the range [1, 9] (i.e.,1 to 9 inclusive). The user will enter the answer when prompted.  Note, since you are dealing with kindergartners the first number should be larger than the second one as they do not yet grasp the concept of negative numbers. Your function should print 'Correct' for correct answers and 'Incorrect' for incorrect answers. For incorrect answers, your code should also inform the kids of the correct value as shown in example below. After n questions, your function should print the number of correct answers.\n",
    "\n",
    "      game(3)\n",
    "\n",
    "      8 - 2 =\n",
    "\n",
    "      Enter answer: 6\n",
    "\n",
    "      Correct.\n",
    "\n",
    "      9 - 7 =\n",
    "\n",
    "      Enter answer: 3\n",
    "\n",
    "      Incorrect.\n",
    "\n",
    "      The correct answer is: 2\n",
    "\n",
    "      7 - 7 =\n",
    "\n",
    "      Enter answer: 0\n",
    "\n",
    "      Correct.\n",
    "\n",
    "      You got 2 correct answers out of 3\n",
    "\n"
   ]
  },
  {
   "cell_type": "code",
   "execution_count": 426,
   "metadata": {},
   "outputs": [],
   "source": [
    "import random\n",
    "def game(n):\n",
    "    temp=0\n",
    "    for i in range(0,n):\n",
    "        num1 = random.randint(1, 9)\n",
    "        num2 = random.randint(1, num1)\n",
    "        print(num1, \" - \", num2 , \" = \")\n",
    "        ans=int(input())\n",
    "        result=num1-num2\n",
    "        print(\"Enter answer: \",ans)\n",
    "        if result==ans:\n",
    "            print(\"Correct.\")\n",
    "            temp+=1\n",
    "        else:\n",
    "            print(\"Incorrect.\")\n",
    "    print(\"You got \",str(temp),\" correct answers out of \",str(n))"
   ]
  },
  {
   "cell_type": "code",
   "execution_count": 427,
   "metadata": {},
   "outputs": [
    {
     "name": "stdout",
     "output_type": "stream",
     "text": [
      "1  -  1  = \n",
      "0\n",
      "Enter answer:  0\n",
      "Correct.\n",
      "5  -  5  = \n",
      "0\n",
      "Enter answer:  0\n",
      "Correct.\n",
      "4  -  1  = \n",
      "2\n",
      "Enter answer:  2\n",
      "Incorrect.\n",
      "You got  2  correct answers out of  3\n"
     ]
    }
   ],
   "source": [
    "game(3)"
   ]
  },
  {
   "cell_type": "markdown",
   "metadata": {},
   "source": [
    "### 3) In your class, many students are friends. Let’s assume that two students sharing a friend must be friends themselves; in other words, if students 0 and 1 are friends and students 1 and 2 are friends, then students 0 and 2 must be friends. Using this rule, we can partition the students into circles of friends.\n",
    "\n",
    "To do this, implement a function networks() that takes two input arguments. The first is the number n of students in the class. We assume students are identified using integers 0 through n-1. The second input argument is a list of tuple objects that define friends. For example, tuple (0, 2) defines students 0 and 2 as friends. Function networks() should print the partition of students into circles of friends as illustrated:\n",
    "\n",
    "      networks(5, [(0, 1), (1, 2), (3, 4)])\n",
    "\n",
    "      Social network 0 is {0, 1, 2}\n",
    "\n",
    "      Social network 1 is {3, 4}\n",
    "\n",
    "\n",
    "\n"
   ]
  },
  {
   "cell_type": "code",
   "execution_count": null,
   "metadata": {},
   "outputs": [],
   "source": []
  },
  {
   "cell_type": "markdown",
   "metadata": {},
   "source": [
    "4)Integrate a function by one trapezoid\n",
    "\n",
    "An approximation to the integral of a function f(x) over an interval [a, b] can found by first approximating f(x) by the straight line that goes through the end points (a, f(a)) and (b, f(b)), and then finding the area under the straight line (which is the area of a trapezoid). The resulting formula becomes https://wikimedia.org/api/rest_v1/media/math/render/svg/ff1e6d438c8e663ed8ab18d19b011371c24b3ac7 https://en.wikipedia.org/wiki/Trapezoidal_rule\n",
    "\n",
    "\n",
    "\n",
    "(4a) Write a function trapezint1(f, a, b) that returns this approximation to the integral. The argument f is a Python implementation f(x) of the mathematical function f(x).\n",
    "\n",
    "(4b) Write python code showing how you would do a line plot b vs trapezint1 (f, a, b), assume a=0, and function f is the math.cos\n",
    "\n"
   ]
  },
  {
   "cell_type": "code",
   "execution_count": null,
   "metadata": {},
   "outputs": [],
   "source": []
  },
  {
   "cell_type": "code",
   "execution_count": null,
   "metadata": {},
   "outputs": [],
   "source": []
  }
 ],
 "metadata": {
  "kernelspec": {
   "display_name": "Python 3",
   "language": "python",
   "name": "python3"
  },
  "language_info": {
   "codemirror_mode": {
    "name": "ipython",
    "version": 3
   },
   "file_extension": ".py",
   "mimetype": "text/x-python",
   "name": "python",
   "nbconvert_exporter": "python",
   "pygments_lexer": "ipython3",
   "version": "3.8.5"
  }
 },
 "nbformat": 4,
 "nbformat_minor": 4
}
